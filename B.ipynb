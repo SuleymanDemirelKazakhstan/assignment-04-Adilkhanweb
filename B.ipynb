{
 "cells": [
  {
   "cell_type": "code",
   "execution_count": null,
   "metadata": {},
   "outputs": [],
   "source": [
    "import numpy as np"
   ]
  },
  {
   "cell_type": "code",
   "execution_count": null,
   "metadata": {},
   "outputs": [],
   "source": [
    "W_1 = [[0.2,0.4],[0.15,0.75],[0.3,0.01]]\n",
    "W_2 = [[0.9,0.25,0.12],[0.99,0.01,0.5]]\n",
    "x = [[5,10],[7,3],[100,5]]\n",
    "Y = [[1,0,0],[0,1,0],[0,0,1]]"
   ]
  },
  {
   "cell_type": "code",
   "execution_count": null,
   "metadata": {},
   "outputs": [],
   "source": [
    "w1 = np.array(W_1)\n",
    "w2 = np.array(W_2)\n",
    "Y = np.array(Y)\n",
    "bias = 1\n",
    "bias_matrix = np.array([[bias] for i in range(len(x))])\n",
    "x = np.append(x, bias_matrix, axis=1)\n",
    "learning_rate = 0.01\n",
    "N = Y.size"
   ]
  },
  {
   "cell_type": "code",
   "execution_count": null,
   "metadata": {},
   "outputs": [],
   "source": [
    "def sigmoid(x):\n",
    "    return 1 / (1 + np.exp(-x))"
   ]
  },
  {
   "cell_type": "code",
   "execution_count": null,
   "metadata": {},
   "outputs": [],
   "source": [
    "def forward(x, w1, w2):\n",
    "    # hidden\n",
    "    z1 = x.dot(w1)  # input from layer 1\n",
    "    a1 = sigmoid(z1)  # out put of layer 2\n",
    "    # Output layer\n",
    "    z2 = a1.dot(w2)  # input of out layer\n",
    "    a2 = sigmoid(z2)  # output of out layer\n",
    "    return a2"
   ]
  },
  {
   "cell_type": "code",
   "execution_count": null,
   "metadata": {},
   "outputs": [],
   "source": [
    "def back_prop(x, Y, w1, w2, alpha):\n",
    "    hidden_layer_inputs = np.dot(x, w1)\n",
    "    hidden_layer_outputs = sigmoid(hidden_layer_inputs)\n",
    "    output_layer_inputs = np.dot(hidden_layer_outputs, w2)\n",
    "    output_layer_outputs = sigmoid(output_layer_inputs)\n",
    "\n",
    "    # back propagation\n",
    "    output_layer_error = output_layer_outputs - Y\n",
    "    output_layer_delta = output_layer_error * output_layer_outputs * (1 - output_layer_outputs)  # local gradient\n",
    "\n",
    "    hidden_layer_error = np.dot(output_layer_delta, w2.T)\n",
    "    hidden_layer_delta = hidden_layer_error * hidden_layer_outputs * (1 - hidden_layer_outputs)\n",
    "\n",
    "    # weight updates\n",
    "    weights_2_update = np.dot(hidden_layer_outputs.T, output_layer_delta) / N\n",
    "    weights_1_update = np.dot(x.T, hidden_layer_delta) / N\n",
    "\n",
    "    w2 = w2 - alpha * weights_2_update\n",
    "    w1 = w1 - alpha * weights_1_update\n",
    "    return w1, w2"
   ]
  },
  {
   "cell_type": "code",
   "execution_count": null,
   "metadata": {},
   "outputs": [],
   "source": [
    "def train(x, Y, w1, w2, alpha=0.1, epoch=10):\n",
    "    for j in range(epoch):\n",
    "        w1, w2 = back_prop(x, Y, w1, w2, alpha)\n",
    "    return w1, w2"
   ]
  },
  {
   "cell_type": "code",
   "execution_count": null,
   "metadata": {},
   "outputs": [],
   "source": [
    "w1, w2 = train(x, Y, w1, w2, learning_rate, 200000)"
   ]
  },
  {
   "cell_type": "code",
   "execution_count": null,
   "metadata": {},
   "outputs": [],
   "source": [
    "def predict(x, w1, w2):\n",
    "    out = forward(x, w1, w2)\n",
    "    print(out)"
   ]
  },
  {
   "cell_type": "code",
   "execution_count": null,
   "metadata": {},
   "outputs": [],
   "source": [
    "predict(x,w1,w2)"
   ]
  },
  {
   "cell_type": "code",
   "execution_count": null,
   "metadata": {},
   "outputs": [],
   "source": [
    "print(Y)"
   ]
  }
 ],
 "metadata": {
  "language_info": {
   "name": "python"
  },
  "orig_nbformat": 4
 },
 "nbformat": 4,
 "nbformat_minor": 2
}
